{
  "nbformat": 4,
  "nbformat_minor": 0,
  "metadata": {
    "colab": {
      "provenance": [],
      "include_colab_link": true
    },
    "kernelspec": {
      "name": "python3",
      "display_name": "Python 3"
    },
    "language_info": {
      "name": "python"
    }
  },
  "cells": [
    {
      "cell_type": "markdown",
      "metadata": {
        "id": "view-in-github",
        "colab_type": "text"
      },
      "source": [
        "<a href=\"https://colab.research.google.com/github/Raghav-hi/Google-colab/blob/main/bigDataAssignment.ipynb\" target=\"_parent\"><img src=\"https://colab.research.google.com/assets/colab-badge.svg\" alt=\"Open In Colab\"/></a>"
      ]
    },
    {
      "cell_type": "code",
      "source": [
        "#Installing java and PySpark\n",
        "!apt-get update\n",
        "!apt-get install openjdk-8-jdk-headless -qq > /dev/null\n",
        "!pip install pyspark"
      ],
      "metadata": {
        "id": "C012NMP3FbUY",
        "colab": {
          "base_uri": "https://localhost:8080/"
        },
        "outputId": "2ae448f2-cdac-4bf8-dd08-4368e6a2af5c"
      },
      "execution_count": null,
      "outputs": [
        {
          "output_type": "stream",
          "name": "stdout",
          "text": [
            "\r0% [Working]\r            \rHit:1 http://archive.ubuntu.com/ubuntu jammy InRelease\n",
            "\r0% [Waiting for headers] [Waiting for headers] [Waiting for headers] [Connected to r2u.stat.illinois\r                                                                                                    \rGet:2 http://archive.ubuntu.com/ubuntu jammy-updates InRelease [128 kB]\n",
            "\r                                                                                                    \rGet:3 http://security.ubuntu.com/ubuntu jammy-security InRelease [129 kB]\n",
            "\r                                                                                                    \rGet:4 https://cloud.r-project.org/bin/linux/ubuntu jammy-cran40/ InRelease [3,632 B]\n",
            "Hit:5 https://developer.download.nvidia.com/compute/cuda/repos/ubuntu2204/x86_64  InRelease\n",
            "Get:6 https://r2u.stat.illinois.edu/ubuntu jammy InRelease [6,555 B]\n",
            "Get:7 http://archive.ubuntu.com/ubuntu jammy-backports InRelease [127 kB]\n",
            "Hit:8 https://ppa.launchpadcontent.net/deadsnakes/ppa/ubuntu jammy InRelease\n",
            "Hit:9 https://ppa.launchpadcontent.net/graphics-drivers/ppa/ubuntu jammy InRelease\n",
            "Hit:10 https://ppa.launchpadcontent.net/ubuntugis/ppa/ubuntu jammy InRelease\n",
            "Get:11 http://security.ubuntu.com/ubuntu jammy-security/universe amd64 Packages [1,237 kB]\n",
            "Get:12 http://security.ubuntu.com/ubuntu jammy-security/main amd64 Packages [2,692 kB]\n",
            "Get:13 https://r2u.stat.illinois.edu/ubuntu jammy/main all Packages [8,762 kB]\n",
            "Get:14 https://r2u.stat.illinois.edu/ubuntu jammy/main amd64 Packages [2,677 kB]\n",
            "Get:15 http://archive.ubuntu.com/ubuntu jammy-updates/main amd64 Packages [3,003 kB]\n",
            "Get:16 http://archive.ubuntu.com/ubuntu jammy-updates/restricted amd64 Packages [3,962 kB]\n",
            "Get:17 http://archive.ubuntu.com/ubuntu jammy-updates/universe amd64 Packages [1,535 kB]\n",
            "Fetched 24.3 MB in 8s (2,942 kB/s)\n",
            "Reading package lists... Done\n",
            "W: Skipping acquire of configured file 'main/source/Sources' as repository 'https://r2u.stat.illinois.edu/ubuntu jammy InRelease' does not seem to provide it (sources.list entry misspelt?)\n",
            "Requirement already satisfied: pyspark in /usr/local/lib/python3.11/dist-packages (3.5.5)\n",
            "Requirement already satisfied: py4j==0.10.9.7 in /usr/local/lib/python3.11/dist-packages (from pyspark) (0.10.9.7)\n"
          ]
        }
      ]
    },
    {
      "cell_type": "code",
      "source": [
        "#Verifying installation\n",
        "import pyspark\n",
        "print(pyspark.__version__)\n"
      ],
      "metadata": {
        "colab": {
          "base_uri": "https://localhost:8080/"
        },
        "id": "352WEGPKGkyl",
        "outputId": "9022017b-2901-4c1f-c3bf-365d2366bd48"
      },
      "execution_count": null,
      "outputs": [
        {
          "output_type": "stream",
          "name": "stdout",
          "text": [
            "3.5.5\n"
          ]
        }
      ]
    },
    {
      "cell_type": "code",
      "source": [
        "from google.colab import files\n",
        "files.upload()  # Upload your kaggle.json file here"
      ],
      "metadata": {
        "colab": {
          "base_uri": "https://localhost:8080/",
          "height": 90
        },
        "id": "-3IRRyqgGwyC",
        "outputId": "69b047a8-952b-469a-b851-ed49c9fa606d"
      },
      "execution_count": null,
      "outputs": [
        {
          "output_type": "display_data",
          "data": {
            "text/plain": [
              "<IPython.core.display.HTML object>"
            ],
            "text/html": [
              "\n",
              "     <input type=\"file\" id=\"files-ee6e1534-5c47-4bdd-84bf-896fb86966c0\" name=\"files[]\" multiple disabled\n",
              "        style=\"border:none\" />\n",
              "     <output id=\"result-ee6e1534-5c47-4bdd-84bf-896fb86966c0\">\n",
              "      Upload widget is only available when the cell has been executed in the\n",
              "      current browser session. Please rerun this cell to enable.\n",
              "      </output>\n",
              "      <script>// Copyright 2017 Google LLC\n",
              "//\n",
              "// Licensed under the Apache License, Version 2.0 (the \"License\");\n",
              "// you may not use this file except in compliance with the License.\n",
              "// You may obtain a copy of the License at\n",
              "//\n",
              "//      http://www.apache.org/licenses/LICENSE-2.0\n",
              "//\n",
              "// Unless required by applicable law or agreed to in writing, software\n",
              "// distributed under the License is distributed on an \"AS IS\" BASIS,\n",
              "// WITHOUT WARRANTIES OR CONDITIONS OF ANY KIND, either express or implied.\n",
              "// See the License for the specific language governing permissions and\n",
              "// limitations under the License.\n",
              "\n",
              "/**\n",
              " * @fileoverview Helpers for google.colab Python module.\n",
              " */\n",
              "(function(scope) {\n",
              "function span(text, styleAttributes = {}) {\n",
              "  const element = document.createElement('span');\n",
              "  element.textContent = text;\n",
              "  for (const key of Object.keys(styleAttributes)) {\n",
              "    element.style[key] = styleAttributes[key];\n",
              "  }\n",
              "  return element;\n",
              "}\n",
              "\n",
              "// Max number of bytes which will be uploaded at a time.\n",
              "const MAX_PAYLOAD_SIZE = 100 * 1024;\n",
              "\n",
              "function _uploadFiles(inputId, outputId) {\n",
              "  const steps = uploadFilesStep(inputId, outputId);\n",
              "  const outputElement = document.getElementById(outputId);\n",
              "  // Cache steps on the outputElement to make it available for the next call\n",
              "  // to uploadFilesContinue from Python.\n",
              "  outputElement.steps = steps;\n",
              "\n",
              "  return _uploadFilesContinue(outputId);\n",
              "}\n",
              "\n",
              "// This is roughly an async generator (not supported in the browser yet),\n",
              "// where there are multiple asynchronous steps and the Python side is going\n",
              "// to poll for completion of each step.\n",
              "// This uses a Promise to block the python side on completion of each step,\n",
              "// then passes the result of the previous step as the input to the next step.\n",
              "function _uploadFilesContinue(outputId) {\n",
              "  const outputElement = document.getElementById(outputId);\n",
              "  const steps = outputElement.steps;\n",
              "\n",
              "  const next = steps.next(outputElement.lastPromiseValue);\n",
              "  return Promise.resolve(next.value.promise).then((value) => {\n",
              "    // Cache the last promise value to make it available to the next\n",
              "    // step of the generator.\n",
              "    outputElement.lastPromiseValue = value;\n",
              "    return next.value.response;\n",
              "  });\n",
              "}\n",
              "\n",
              "/**\n",
              " * Generator function which is called between each async step of the upload\n",
              " * process.\n",
              " * @param {string} inputId Element ID of the input file picker element.\n",
              " * @param {string} outputId Element ID of the output display.\n",
              " * @return {!Iterable<!Object>} Iterable of next steps.\n",
              " */\n",
              "function* uploadFilesStep(inputId, outputId) {\n",
              "  const inputElement = document.getElementById(inputId);\n",
              "  inputElement.disabled = false;\n",
              "\n",
              "  const outputElement = document.getElementById(outputId);\n",
              "  outputElement.innerHTML = '';\n",
              "\n",
              "  const pickedPromise = new Promise((resolve) => {\n",
              "    inputElement.addEventListener('change', (e) => {\n",
              "      resolve(e.target.files);\n",
              "    });\n",
              "  });\n",
              "\n",
              "  const cancel = document.createElement('button');\n",
              "  inputElement.parentElement.appendChild(cancel);\n",
              "  cancel.textContent = 'Cancel upload';\n",
              "  const cancelPromise = new Promise((resolve) => {\n",
              "    cancel.onclick = () => {\n",
              "      resolve(null);\n",
              "    };\n",
              "  });\n",
              "\n",
              "  // Wait for the user to pick the files.\n",
              "  const files = yield {\n",
              "    promise: Promise.race([pickedPromise, cancelPromise]),\n",
              "    response: {\n",
              "      action: 'starting',\n",
              "    }\n",
              "  };\n",
              "\n",
              "  cancel.remove();\n",
              "\n",
              "  // Disable the input element since further picks are not allowed.\n",
              "  inputElement.disabled = true;\n",
              "\n",
              "  if (!files) {\n",
              "    return {\n",
              "      response: {\n",
              "        action: 'complete',\n",
              "      }\n",
              "    };\n",
              "  }\n",
              "\n",
              "  for (const file of files) {\n",
              "    const li = document.createElement('li');\n",
              "    li.append(span(file.name, {fontWeight: 'bold'}));\n",
              "    li.append(span(\n",
              "        `(${file.type || 'n/a'}) - ${file.size} bytes, ` +\n",
              "        `last modified: ${\n",
              "            file.lastModifiedDate ? file.lastModifiedDate.toLocaleDateString() :\n",
              "                                    'n/a'} - `));\n",
              "    const percent = span('0% done');\n",
              "    li.appendChild(percent);\n",
              "\n",
              "    outputElement.appendChild(li);\n",
              "\n",
              "    const fileDataPromise = new Promise((resolve) => {\n",
              "      const reader = new FileReader();\n",
              "      reader.onload = (e) => {\n",
              "        resolve(e.target.result);\n",
              "      };\n",
              "      reader.readAsArrayBuffer(file);\n",
              "    });\n",
              "    // Wait for the data to be ready.\n",
              "    let fileData = yield {\n",
              "      promise: fileDataPromise,\n",
              "      response: {\n",
              "        action: 'continue',\n",
              "      }\n",
              "    };\n",
              "\n",
              "    // Use a chunked sending to avoid message size limits. See b/62115660.\n",
              "    let position = 0;\n",
              "    do {\n",
              "      const length = Math.min(fileData.byteLength - position, MAX_PAYLOAD_SIZE);\n",
              "      const chunk = new Uint8Array(fileData, position, length);\n",
              "      position += length;\n",
              "\n",
              "      const base64 = btoa(String.fromCharCode.apply(null, chunk));\n",
              "      yield {\n",
              "        response: {\n",
              "          action: 'append',\n",
              "          file: file.name,\n",
              "          data: base64,\n",
              "        },\n",
              "      };\n",
              "\n",
              "      let percentDone = fileData.byteLength === 0 ?\n",
              "          100 :\n",
              "          Math.round((position / fileData.byteLength) * 100);\n",
              "      percent.textContent = `${percentDone}% done`;\n",
              "\n",
              "    } while (position < fileData.byteLength);\n",
              "  }\n",
              "\n",
              "  // All done.\n",
              "  yield {\n",
              "    response: {\n",
              "      action: 'complete',\n",
              "    }\n",
              "  };\n",
              "}\n",
              "\n",
              "scope.google = scope.google || {};\n",
              "scope.google.colab = scope.google.colab || {};\n",
              "scope.google.colab._files = {\n",
              "  _uploadFiles,\n",
              "  _uploadFilesContinue,\n",
              "};\n",
              "})(self);\n",
              "</script> "
            ]
          },
          "metadata": {}
        },
        {
          "output_type": "stream",
          "name": "stdout",
          "text": [
            "Saving kaggle.json to kaggle.json\n"
          ]
        },
        {
          "output_type": "execute_result",
          "data": {
            "text/plain": [
              "{'kaggle.json': b'{\"username\":\"raghavrajshrestha\",\"key\":\"8e4b962448824480a3ff274d94153dd8\"}'}"
            ]
          },
          "metadata": {},
          "execution_count": 4
        }
      ]
    },
    {
      "cell_type": "code",
      "source": [
        "!mkdir -p ~/.kaggle\n",
        "!cp kaggle.json ~/.kaggle/\n",
        "!chmod 600 ~/.kaggle/kaggle.json"
      ],
      "metadata": {
        "id": "7YdP6qcENMkA"
      },
      "execution_count": null,
      "outputs": []
    },
    {
      "cell_type": "code",
      "source": [
        "!pip install kaggle"
      ],
      "metadata": {
        "colab": {
          "base_uri": "https://localhost:8080/"
        },
        "id": "JrLc9cdINasE",
        "outputId": "fc7b0e2b-b9f3-4601-c8b4-3a2fa0a649c3"
      },
      "execution_count": null,
      "outputs": [
        {
          "output_type": "stream",
          "name": "stdout",
          "text": [
            "Requirement already satisfied: kaggle in /usr/local/lib/python3.11/dist-packages (1.7.4.2)\n",
            "Requirement already satisfied: bleach in /usr/local/lib/python3.11/dist-packages (from kaggle) (6.2.0)\n",
            "Requirement already satisfied: certifi>=14.05.14 in /usr/local/lib/python3.11/dist-packages (from kaggle) (2025.1.31)\n",
            "Requirement already satisfied: charset-normalizer in /usr/local/lib/python3.11/dist-packages (from kaggle) (3.4.1)\n",
            "Requirement already satisfied: idna in /usr/local/lib/python3.11/dist-packages (from kaggle) (3.10)\n",
            "Requirement already satisfied: protobuf in /usr/local/lib/python3.11/dist-packages (from kaggle) (5.29.3)\n",
            "Requirement already satisfied: python-dateutil>=2.5.3 in /usr/local/lib/python3.11/dist-packages (from kaggle) (2.8.2)\n",
            "Requirement already satisfied: python-slugify in /usr/local/lib/python3.11/dist-packages (from kaggle) (8.0.4)\n",
            "Requirement already satisfied: requests in /usr/local/lib/python3.11/dist-packages (from kaggle) (2.32.3)\n",
            "Requirement already satisfied: setuptools>=21.0.0 in /usr/local/lib/python3.11/dist-packages (from kaggle) (75.1.0)\n",
            "Requirement already satisfied: six>=1.10 in /usr/local/lib/python3.11/dist-packages (from kaggle) (1.17.0)\n",
            "Requirement already satisfied: text-unidecode in /usr/local/lib/python3.11/dist-packages (from kaggle) (1.3)\n",
            "Requirement already satisfied: tqdm in /usr/local/lib/python3.11/dist-packages (from kaggle) (4.67.1)\n",
            "Requirement already satisfied: urllib3>=1.15.1 in /usr/local/lib/python3.11/dist-packages (from kaggle) (2.3.0)\n",
            "Requirement already satisfied: webencodings in /usr/local/lib/python3.11/dist-packages (from kaggle) (0.5.1)\n"
          ]
        }
      ]
    },
    {
      "cell_type": "code",
      "source": [
        "!kaggle datasets download -d prasad22/healthcare-dataset\n"
      ],
      "metadata": {
        "colab": {
          "base_uri": "https://localhost:8080/"
        },
        "id": "i99Mu4sbNh3V",
        "outputId": "0358c3aa-66ec-499a-b64f-2db154b727aa"
      },
      "execution_count": 22,
      "outputs": [
        {
          "output_type": "stream",
          "name": "stdout",
          "text": [
            "Dataset URL: https://www.kaggle.com/datasets/prasad22/healthcare-dataset\n",
            "License(s): CC0-1.0\n"
          ]
        }
      ]
    },
    {
      "cell_type": "code",
      "source": [
        "!unzip healthcare-dataset.zip\n"
      ],
      "metadata": {
        "colab": {
          "base_uri": "https://localhost:8080/"
        },
        "id": "jTt5v3zJOAYx",
        "outputId": "4f80e437-30b1-43f5-a3bf-ca403c80c992"
      },
      "execution_count": 23,
      "outputs": [
        {
          "output_type": "stream",
          "name": "stdout",
          "text": [
            "Archive:  healthcare-dataset.zip\n",
            "  inflating: healthcare_dataset.csv  \n"
          ]
        }
      ]
    },
    {
      "cell_type": "code",
      "source": [
        "from pyspark.sql import SparkSession\n",
        "\n",
        "# Create a Spark session\n",
        "spark = SparkSession.builder.appName(\"KaggleData\").getOrCreate()"
      ],
      "metadata": {
        "id": "anVk_p6iOOQ8"
      },
      "execution_count": 24,
      "outputs": []
    },
    {
      "cell_type": "code",
      "source": [
        "df = spark.read.csv(\"/content/healthcare_dataset.csv\", header=True, inferSchema=True)\n",
        "df.show(5)"
      ],
      "metadata": {
        "colab": {
          "base_uri": "https://localhost:8080/"
        },
        "id": "aoygj8luRJEy",
        "outputId": "2c2c8b39-c649-48bb-e8ae-d8a61eab63bd"
      },
      "execution_count": 25,
      "outputs": [
        {
          "output_type": "stream",
          "name": "stdout",
          "text": [
            "+-------------+---+------+----------+-----------------+-----------------+----------------+--------------------+------------------+------------------+-----------+--------------+--------------+-----------+------------+\n",
            "|         Name|Age|Gender|Blood Type|Medical Condition|Date of Admission|          Doctor|            Hospital|Insurance Provider|    Billing Amount|Room Number|Admission Type|Discharge Date| Medication|Test Results|\n",
            "+-------------+---+------+----------+-----------------+-----------------+----------------+--------------------+------------------+------------------+-----------+--------------+--------------+-----------+------------+\n",
            "|Bobby JacksOn| 30|  Male|        B-|           Cancer|       2024-01-31|   Matthew Smith|     Sons and Miller|        Blue Cross|18856.281305978155|        328|        Urgent|    2024-02-02|Paracetamol|      Normal|\n",
            "| LesLie TErRy| 62|  Male|        A+|          Obesity|       2019-08-20| Samantha Davies|             Kim Inc|          Medicare|33643.327286577885|        265|     Emergency|    2019-08-26|  Ibuprofen|Inconclusive|\n",
            "|  DaNnY sMitH| 76|Female|        A-|          Obesity|       2022-09-22|Tiffany Mitchell|            Cook PLC|             Aetna|27955.096078842456|        205|     Emergency|    2022-10-07|    Aspirin|      Normal|\n",
            "| andrEw waTtS| 28|Female|        O+|         Diabetes|       2020-11-18|     Kevin Wells|Hernandez Rogers ...|          Medicare| 37909.78240987528|        450|      Elective|    2020-12-18|  Ibuprofen|    Abnormal|\n",
            "|adrIENNE bEll| 43|Female|       AB+|           Cancer|       2022-09-19|  Kathleen Hanna|         White-White|             Aetna|14238.317813937623|        458|        Urgent|    2022-10-09| Penicillin|    Abnormal|\n",
            "+-------------+---+------+----------+-----------------+-----------------+----------------+--------------------+------------------+------------------+-----------+--------------+--------------+-----------+------------+\n",
            "only showing top 5 rows\n",
            "\n"
          ]
        }
      ]
    },
    {
      "cell_type": "code",
      "source": [
        "from pyspark.sql.functions import to_date, datediff, col\n",
        "\n",
        "df = df.withColumn(\"Discharge Date\", to_date(col(\"Discharge Date\"), \"MM/dd/yyyy\")) \\\n",
        "       .withColumn(\"Date of Admission\", to_date(col(\"Date of Admission\"), \"MM/dd/yyyy\")) \\\n",
        "       .withColumn(\"Lenght_of_stay\", datediff(col(\"Discharge Date\"), col(\"Date of Admission\")))\n",
        "\n",
        "df.show(50)"
      ],
      "metadata": {
        "id": "ADP5EcceVYf_",
        "colab": {
          "base_uri": "https://localhost:8080/"
        },
        "outputId": "4ac50efb-f397-4d79-91d5-68e809598f28"
      },
      "execution_count": 27,
      "outputs": [
        {
          "output_type": "stream",
          "name": "stdout",
          "text": [
            "+-------------------+---+------+----------+-----------------+-----------------+-----------------+--------------------+------------------+------------------+-----------+--------------+--------------+-----------+------------+--------------+\n",
            "|               Name|Age|Gender|Blood Type|Medical Condition|Date of Admission|           Doctor|            Hospital|Insurance Provider|    Billing Amount|Room Number|Admission Type|Discharge Date| Medication|Test Results|Lenght_of_stay|\n",
            "+-------------------+---+------+----------+-----------------+-----------------+-----------------+--------------------+------------------+------------------+-----------+--------------+--------------+-----------+------------+--------------+\n",
            "|      Bobby JacksOn| 30|  Male|        B-|           Cancer|       2024-01-31|    Matthew Smith|     Sons and Miller|        Blue Cross|18856.281305978155|        328|        Urgent|    2024-02-02|Paracetamol|      Normal|             2|\n",
            "|       LesLie TErRy| 62|  Male|        A+|          Obesity|       2019-08-20|  Samantha Davies|             Kim Inc|          Medicare|33643.327286577885|        265|     Emergency|    2019-08-26|  Ibuprofen|Inconclusive|             6|\n",
            "|        DaNnY sMitH| 76|Female|        A-|          Obesity|       2022-09-22| Tiffany Mitchell|            Cook PLC|             Aetna|27955.096078842456|        205|     Emergency|    2022-10-07|    Aspirin|      Normal|            15|\n",
            "|       andrEw waTtS| 28|Female|        O+|         Diabetes|       2020-11-18|      Kevin Wells|Hernandez Rogers ...|          Medicare| 37909.78240987528|        450|      Elective|    2020-12-18|  Ibuprofen|    Abnormal|            30|\n",
            "|      adrIENNE bEll| 43|Female|       AB+|           Cancer|       2022-09-19|   Kathleen Hanna|         White-White|             Aetna|14238.317813937623|        458|        Urgent|    2022-10-09| Penicillin|    Abnormal|            20|\n",
            "|      EMILY JOHNSOn| 36|  Male|        A+|           Asthma|       2023-12-20|    Taylor Newton|      Nunez-Humphrey|  UnitedHealthcare| 48145.11095104189|        389|        Urgent|    2023-12-24|  Ibuprofen|      Normal|             4|\n",
            "|     edwArD EDWaRDs| 21|Female|       AB-|         Diabetes|       2020-11-03|      Kelly Olson|     Group Middleton|          Medicare| 19580.87234486093|        389|     Emergency|    2020-11-15|Paracetamol|Inconclusive|            12|\n",
            "| CHrisTInA MARtinez| 20|Female|        A+|           Cancer|       2021-12-28|   Suzanne Thomas|Powell Robinson a...|             Cigna| 45820.46272159459|        277|     Emergency|    2022-01-07|Paracetamol|Inconclusive|            10|\n",
            "|    JASmINe aGuIlaR| 82|  Male|       AB+|           Asthma|       2020-07-01|  Daniel Ferguson|       Sons Rich and|             Cigna|50119.222791548505|        316|      Elective|    2020-07-14|    Aspirin|    Abnormal|            13|\n",
            "|   ChRISTopher BerG| 58|Female|       AB-|           Cancer|       2021-05-23|      Heather Day|      Padilla-Walker|  UnitedHealthcare| 19784.63106221073|        249|      Elective|    2021-06-22|Paracetamol|Inconclusive|            30|\n",
            "|   mIchElLe daniELs| 72|  Male|        O+|           Cancer|       2020-04-19|      John Duncan|     Schaefer-Porter|          Medicare|12576.795609050234|        394|        Urgent|    2020-04-22|Paracetamol|      Normal|             3|\n",
            "|     aaRon MARtiNeZ| 38|Female|        A-|     Hypertension|       2023-08-13|     Douglas Mayo|         Lyons-Blair|          Medicare| 7999.586879604188|        288|        Urgent|    2023-09-05|    Lipitor|Inconclusive|            23|\n",
            "|      connOR HANsEn| 75|Female|        A+|         Diabetes|       2019-12-12| Kenneth Fletcher|Powers Miller, an...|             Cigna| 43282.28335770435|        134|     Emergency|    2019-12-28| Penicillin|    Abnormal|            16|\n",
            "|       rObeRt bAuer| 68|Female|       AB+|           Asthma|       2020-05-22|  Theresa Freeman|    Rivera-Gutierrez|  UnitedHealthcare|33207.706633729606|        309|        Urgent|    2020-06-19|    Lipitor|      Normal|            28|\n",
            "|       bROOkE brady| 44|Female|       AB+|           Cancer|       2021-10-08|  Roberta Stewart|     Morris-Arellano|  UnitedHealthcare|40701.599227308754|        182|        Urgent|    2021-10-13|Paracetamol|      Normal|             5|\n",
            "| MS. nAtalIE gAMble| 46|Female|       AB-|          Obesity|       2023-01-01|  Maria Dougherty|      Cline-Williams|        Blue Cross|12263.357425021362|        465|      Elective|    2023-01-11|    Aspirin|Inconclusive|            10|\n",
            "|      haley perkins| 63|Female|        A+|        Arthritis|       2020-06-23|    Erica Spencer|     Cervantes-Wells|  UnitedHealthcare|24499.847903736576|        114|      Elective|    2020-07-14|Paracetamol|      Normal|            21|\n",
            "|mRS. jamiE cAMPBELl| 38|  Male|       AB-|          Obesity|       2020-03-08|       Justin Kim|Torres, and Harri...|             Cigna|17440.465444124675|        449|        Urgent|    2020-04-02|Paracetamol|    Abnormal|            25|\n",
            "|       LuKE BuRgEss| 34|Female|        A-|     Hypertension|       2021-03-04| Justin Moore Jr.|         Houston PLC|        Blue Cross| 18843.02301783416|        260|      Elective|    2021-03-14|    Aspirin|    Abnormal|            10|\n",
            "|     dANIEL schmIdt| 63|  Male|        B+|           Asthma|       2022-11-15|  Denise Galloway|         Hammond Ltd|             Cigna|23762.203579059587|        465|      Elective|    2022-11-22| Penicillin|      Normal|             7|\n",
            "|      tIMOTHY burNs| 67|Female|        A-|           Asthma|       2023-06-28|     Krista Smith|           Jones LLC|        Blue Cross|  42.5145885533243|        115|      Elective|    2023-07-02|    Aspirin|      Normal|             4|\n",
            "| ChRISToPHEr BRiGhT| 48|  Male|        B+|           Asthma|       2020-01-21|    Gregory Smith|      Williams-Davis|             Aetna|17695.911622343818|        295|        Urgent|    2020-02-09|    Lipitor|      Normal|            19|\n",
            "|    KatHRYn StewArt| 58|Female|        O+|        Arthritis|       2022-05-12|   Vanessa Newton|          Clark-Mayo|             Aetna|  5998.10290819591|        327|        Urgent|    2022-06-10|    Lipitor|Inconclusive|            29|\n",
            "|dR. EilEEn thomPsoN| 59|  Male|        A+|           Asthma|       2021-08-02|Donna Martinez MD|      and Sons Smith|             Aetna|25250.052428216135|        119|        Urgent|    2021-08-12|    Lipitor|Inconclusive|            10|\n",
            "|     PAUl hEndERsOn| 72|Female|       AB+|     Hypertension|       2020-05-15| Stephanie Kramer|        Wilson Group|          Medicare| 33211.29541901202|        109|     Emergency|    2020-06-08|Paracetamol|Inconclusive|            24|\n",
            "|   PeTER fiTzgeRaLd| 73|  Male|       AB+|          Obesity|       2020-05-15| Angela Contreras|       Garner-Bowman|          Medicare| 19746.83200760437|        162|        Urgent|    2020-05-20|    Aspirin|    Abnormal|             5|\n",
            "|        cathy sMaLl| 51|Female|        O-|           Asthma|       2023-12-23|      Wendy Glenn|Brown, and Jones ...|        Blue Cross|26786.529555311292|        401|      Elective|    2024-01-19|  Ibuprofen|      Normal|            27|\n",
            "|  mr. KenNEth MoORE| 34|Female|        A+|         Diabetes|       2022-06-21|      James Ellis|       Serrano-Dixon|  UnitedHealthcare| 18834.80134117836|        157|     Emergency|    2022-06-30|    Lipitor|    Abnormal|             9|\n",
            "|        MaRy hUNter| 38|Female|        O-|     Hypertension|       2021-01-03|  Jared Bruce Jr.|      Gardner-Miller|             Cigna|32643.299353277187|        223|     Emergency|    2021-01-16| Penicillin|      Normal|            13|\n",
            "|      jOSHUA OLiVer| 63|Female|        B+|     Hypertension|       2023-10-03|  Brandy Mitchell|      Guerrero-Boone|             Aetna| 5767.011053816016|        293|      Elective|    2023-10-12|Paracetamol|    Abnormal|             9|\n",
            "|    ThOMAS MartInEZ| 34|  Male|        B-|           Asthma|       2019-08-18|      Jacob Huynh|            Hart Ltd|             Cigna| 47909.12880987492|        371|        Urgent|    2019-09-01|  Ibuprofen|Inconclusive|            14|\n",
            "|    JAmES pattERson| 23|Female|        A+|        Arthritis|       2019-11-03| Kristina Frazier|       Cruz-Santiago|  UnitedHealthcare|25835.323594688223|        108|        Urgent|    2019-11-29| Penicillin|    Abnormal|            26|\n",
            "|     WilLIAM cOOPEr| 78|  Male|       AB-|        Arthritis|       2023-05-18|     John Hartman|        Group Duncan|          Medicare|17993.226200015546|        245|      Elective|    2023-06-15| Penicillin|      Normal|            28|\n",
            "|        Erin oRTEga| 43|  Male|       AB-|           Cancer|       2023-05-24|   Heather Garcia|      Lopez-Phillips|          Medicare|21185.953530394218|        494|      Elective|    2023-06-03|  Ibuprofen|      Normal|            10|\n",
            "|   NicOlE RodriGUEz| 30|Female|       AB+|         Diabetes|       2020-01-17|       Lynn Young|           Poole Inc|        Blue Cross|  8408.94935429195|        285|     Emergency|    2020-02-10|    Lipitor|      Normal|            24|\n",
            "|     DAvID AndErSON| 25|Female|       AB+|           Asthma|       2021-01-07|     Emma Allison|        Sons and Cox|          Medicare| 45453.41854566515|        228|      Elective|    2021-01-26|    Lipitor|    Abnormal|            19|\n",
            "|      DEnIse ToRRES| 33|  Male|       AB+|         Diabetes|       2019-10-14|      Laura Myers|          LLC Martin|             Aetna|4397.7769954133355|        481|        Urgent|    2019-10-19|Paracetamol|Inconclusive|             5|\n",
            "| CasSAndrA Robinson| 26|Female|        B-|     Hypertension|       2021-12-19|   Travis Parsons|      Espinoza-Stone|             Aetna| 9380.325967528432|        212|        Urgent|    2022-01-16|  Ibuprofen|      Normal|            28|\n",
            "|      NIcOlE LUcErO| 70|Female|        O-|         Diabetes|       2022-03-12|Christine Johnson|and Garcia Morris...|             Cigna| 48290.69340736419|        113|     Emergency|    2022-03-29|    Lipitor|    Abnormal|            17|\n",
            "|   PAmela fErNanDeZ| 57|Female|        B-|          Obesity|       2021-01-17|     Emily Taylor|        Walton-Meyer|          Medicare| 32973.94083296627|        272|        Urgent|    2021-01-29| Penicillin|    Abnormal|            12|\n",
            "|    chRiSTOPHer LEe| 74|Female|        B-|     Hypertension|       2021-09-15| William Reynolds|           PLC Young|             Cigna| 49943.27849878726|        478|     Emergency|    2021-10-05|    Lipitor|      Normal|            20|\n",
            "|       ThomAS morsE| 81|  Male|        A+|     Hypertension|       2020-01-27|  Jennifer Carter|       Meadows Group|             Cigna| 35633.95545438785|        196|        Urgent|    2020-02-09|    Aspirin|      Normal|            13|\n",
            "|      Mr. eRiC Lane| 49|Female|        A-|           Asthma|       2022-06-24|   Matthew Thomas|and Howell Brooks...|             Cigna|25966.328610220968|        418|      Elective|    2022-07-18|Paracetamol|      Normal|            24|\n",
            "|    KAThEriNE SmiTH| 26|Female|       AB+|          Obesity|       2021-06-09|       Mary Logan|and Mcclure White...|  UnitedHealthcare| 21784.44507072369|        410|        Urgent|    2021-07-01|Paracetamol|      Normal|            22|\n",
            "|      pAUL wILLiAmS| 81|Female|       AB-|           Cancer|       2020-08-23| Kristin Martinez|Gates Brown, and ...|          Medicare| 42684.55888455027|        328|        Urgent|    2020-09-08| Penicillin|    Abnormal|            16|\n",
            "|      lYNn MaRtinez| 65|  Male|        O+|           Cancer|       2022-10-12|    Daniel Murphy|     Group Armstrong|          Medicare|  45585.8865599394|        300|     Emergency|    2022-11-02| Penicillin|      Normal|            21|\n",
            "|chRIsTOpHEr CHaPmAN| 31|Female|        O+|     Hypertension|       2021-12-01|  Emily Patterson|        Ltd Schwartz|             Cigna|29615.441863646167|        211|      Elective|    2021-12-09|Paracetamol|      Normal|             8|\n",
            "|         CHRis fRYe| 58|  Male|        A-|         Diabetes|       2020-05-04|    Heather Smith|     Nelson-Phillips|             Cigna| 36992.27368828386|        413|        Urgent|    2020-05-13|    Aspirin|      Normal|             9|\n",
            "|       kyLE bEnneTT| 22|  Male|        O+|     Hypertension|       2023-09-09|       John Smith|Knight and Nguyen...|  UnitedHealthcare|28051.499483946325|        157|        Urgent|    2023-09-23|  Ibuprofen|    Abnormal|            14|\n",
            "|    BRandOn coLLINS| 77|Female|        O+|           Asthma|       2019-07-19|    Cameron Young|           Lopez PLC|             Cigna|16320.232447271888|        138|        Urgent|    2019-07-29|  Ibuprofen|    Abnormal|            10|\n",
            "+-------------------+---+------+----------+-----------------+-----------------+-----------------+--------------------+------------------+------------------+-----------+--------------+--------------+-----------+------------+--------------+\n",
            "only showing top 50 rows\n",
            "\n"
          ]
        }
      ]
    },
    {
      "cell_type": "code",
      "source": [
        "#Data Cleaning\n",
        "df = df.dropna()#Drop missing values:\n",
        "from pyspark.sql.functions import col#Convert column types:\n",
        "df = df.withColumn(\"Lenght_of_stay\", col(\"Lenght_of_stay\").cast(\"integer\"))\n",
        "#This checks if the column contains only numbers before converting.\n",
        "#If the value is not numeric, it is replaced with NULL."
      ],
      "metadata": {
        "id": "0gU9-UB8XSlm"
      },
      "execution_count": 29,
      "outputs": []
    },
    {
      "cell_type": "code",
      "source": [
        "#Feature engineering\n",
        "from pyspark.sql.functions import when, col\n",
        "\n",
        "df = df.withColumn(\"Risk_Category\",\n",
        "                   when(col(\"Lenght_of_stay\") > 3, \"High\")\n",
        "                   .otherwise(\"Low\"))#Adds Risk_Category feature\n",
        "df.show(50)"
      ],
      "metadata": {
        "id": "sn8lqstmYyzN",
        "colab": {
          "base_uri": "https://localhost:8080/"
        },
        "outputId": "29810032-9445-4eaa-ea00-abdaea9129a2"
      },
      "execution_count": 31,
      "outputs": [
        {
          "output_type": "stream",
          "name": "stdout",
          "text": [
            "+-------------------+---+------+----------+-----------------+-----------------+-----------------+--------------------+------------------+------------------+-----------+--------------+--------------+-----------+------------+--------------+-------------+\n",
            "|               Name|Age|Gender|Blood Type|Medical Condition|Date of Admission|           Doctor|            Hospital|Insurance Provider|    Billing Amount|Room Number|Admission Type|Discharge Date| Medication|Test Results|Lenght_of_stay|Risk_Category|\n",
            "+-------------------+---+------+----------+-----------------+-----------------+-----------------+--------------------+------------------+------------------+-----------+--------------+--------------+-----------+------------+--------------+-------------+\n",
            "|      Bobby JacksOn| 30|  Male|        B-|           Cancer|       2024-01-31|    Matthew Smith|     Sons and Miller|        Blue Cross|18856.281305978155|        328|        Urgent|    2024-02-02|Paracetamol|      Normal|             2|          Low|\n",
            "|       LesLie TErRy| 62|  Male|        A+|          Obesity|       2019-08-20|  Samantha Davies|             Kim Inc|          Medicare|33643.327286577885|        265|     Emergency|    2019-08-26|  Ibuprofen|Inconclusive|             6|         High|\n",
            "|        DaNnY sMitH| 76|Female|        A-|          Obesity|       2022-09-22| Tiffany Mitchell|            Cook PLC|             Aetna|27955.096078842456|        205|     Emergency|    2022-10-07|    Aspirin|      Normal|            15|         High|\n",
            "|       andrEw waTtS| 28|Female|        O+|         Diabetes|       2020-11-18|      Kevin Wells|Hernandez Rogers ...|          Medicare| 37909.78240987528|        450|      Elective|    2020-12-18|  Ibuprofen|    Abnormal|            30|         High|\n",
            "|      adrIENNE bEll| 43|Female|       AB+|           Cancer|       2022-09-19|   Kathleen Hanna|         White-White|             Aetna|14238.317813937623|        458|        Urgent|    2022-10-09| Penicillin|    Abnormal|            20|         High|\n",
            "|      EMILY JOHNSOn| 36|  Male|        A+|           Asthma|       2023-12-20|    Taylor Newton|      Nunez-Humphrey|  UnitedHealthcare| 48145.11095104189|        389|        Urgent|    2023-12-24|  Ibuprofen|      Normal|             4|         High|\n",
            "|     edwArD EDWaRDs| 21|Female|       AB-|         Diabetes|       2020-11-03|      Kelly Olson|     Group Middleton|          Medicare| 19580.87234486093|        389|     Emergency|    2020-11-15|Paracetamol|Inconclusive|            12|         High|\n",
            "| CHrisTInA MARtinez| 20|Female|        A+|           Cancer|       2021-12-28|   Suzanne Thomas|Powell Robinson a...|             Cigna| 45820.46272159459|        277|     Emergency|    2022-01-07|Paracetamol|Inconclusive|            10|         High|\n",
            "|    JASmINe aGuIlaR| 82|  Male|       AB+|           Asthma|       2020-07-01|  Daniel Ferguson|       Sons Rich and|             Cigna|50119.222791548505|        316|      Elective|    2020-07-14|    Aspirin|    Abnormal|            13|         High|\n",
            "|   ChRISTopher BerG| 58|Female|       AB-|           Cancer|       2021-05-23|      Heather Day|      Padilla-Walker|  UnitedHealthcare| 19784.63106221073|        249|      Elective|    2021-06-22|Paracetamol|Inconclusive|            30|         High|\n",
            "|   mIchElLe daniELs| 72|  Male|        O+|           Cancer|       2020-04-19|      John Duncan|     Schaefer-Porter|          Medicare|12576.795609050234|        394|        Urgent|    2020-04-22|Paracetamol|      Normal|             3|          Low|\n",
            "|     aaRon MARtiNeZ| 38|Female|        A-|     Hypertension|       2023-08-13|     Douglas Mayo|         Lyons-Blair|          Medicare| 7999.586879604188|        288|        Urgent|    2023-09-05|    Lipitor|Inconclusive|            23|         High|\n",
            "|      connOR HANsEn| 75|Female|        A+|         Diabetes|       2019-12-12| Kenneth Fletcher|Powers Miller, an...|             Cigna| 43282.28335770435|        134|     Emergency|    2019-12-28| Penicillin|    Abnormal|            16|         High|\n",
            "|       rObeRt bAuer| 68|Female|       AB+|           Asthma|       2020-05-22|  Theresa Freeman|    Rivera-Gutierrez|  UnitedHealthcare|33207.706633729606|        309|        Urgent|    2020-06-19|    Lipitor|      Normal|            28|         High|\n",
            "|       bROOkE brady| 44|Female|       AB+|           Cancer|       2021-10-08|  Roberta Stewart|     Morris-Arellano|  UnitedHealthcare|40701.599227308754|        182|        Urgent|    2021-10-13|Paracetamol|      Normal|             5|         High|\n",
            "| MS. nAtalIE gAMble| 46|Female|       AB-|          Obesity|       2023-01-01|  Maria Dougherty|      Cline-Williams|        Blue Cross|12263.357425021362|        465|      Elective|    2023-01-11|    Aspirin|Inconclusive|            10|         High|\n",
            "|      haley perkins| 63|Female|        A+|        Arthritis|       2020-06-23|    Erica Spencer|     Cervantes-Wells|  UnitedHealthcare|24499.847903736576|        114|      Elective|    2020-07-14|Paracetamol|      Normal|            21|         High|\n",
            "|mRS. jamiE cAMPBELl| 38|  Male|       AB-|          Obesity|       2020-03-08|       Justin Kim|Torres, and Harri...|             Cigna|17440.465444124675|        449|        Urgent|    2020-04-02|Paracetamol|    Abnormal|            25|         High|\n",
            "|       LuKE BuRgEss| 34|Female|        A-|     Hypertension|       2021-03-04| Justin Moore Jr.|         Houston PLC|        Blue Cross| 18843.02301783416|        260|      Elective|    2021-03-14|    Aspirin|    Abnormal|            10|         High|\n",
            "|     dANIEL schmIdt| 63|  Male|        B+|           Asthma|       2022-11-15|  Denise Galloway|         Hammond Ltd|             Cigna|23762.203579059587|        465|      Elective|    2022-11-22| Penicillin|      Normal|             7|         High|\n",
            "|      tIMOTHY burNs| 67|Female|        A-|           Asthma|       2023-06-28|     Krista Smith|           Jones LLC|        Blue Cross|  42.5145885533243|        115|      Elective|    2023-07-02|    Aspirin|      Normal|             4|         High|\n",
            "| ChRISToPHEr BRiGhT| 48|  Male|        B+|           Asthma|       2020-01-21|    Gregory Smith|      Williams-Davis|             Aetna|17695.911622343818|        295|        Urgent|    2020-02-09|    Lipitor|      Normal|            19|         High|\n",
            "|    KatHRYn StewArt| 58|Female|        O+|        Arthritis|       2022-05-12|   Vanessa Newton|          Clark-Mayo|             Aetna|  5998.10290819591|        327|        Urgent|    2022-06-10|    Lipitor|Inconclusive|            29|         High|\n",
            "|dR. EilEEn thomPsoN| 59|  Male|        A+|           Asthma|       2021-08-02|Donna Martinez MD|      and Sons Smith|             Aetna|25250.052428216135|        119|        Urgent|    2021-08-12|    Lipitor|Inconclusive|            10|         High|\n",
            "|     PAUl hEndERsOn| 72|Female|       AB+|     Hypertension|       2020-05-15| Stephanie Kramer|        Wilson Group|          Medicare| 33211.29541901202|        109|     Emergency|    2020-06-08|Paracetamol|Inconclusive|            24|         High|\n",
            "|   PeTER fiTzgeRaLd| 73|  Male|       AB+|          Obesity|       2020-05-15| Angela Contreras|       Garner-Bowman|          Medicare| 19746.83200760437|        162|        Urgent|    2020-05-20|    Aspirin|    Abnormal|             5|         High|\n",
            "|        cathy sMaLl| 51|Female|        O-|           Asthma|       2023-12-23|      Wendy Glenn|Brown, and Jones ...|        Blue Cross|26786.529555311292|        401|      Elective|    2024-01-19|  Ibuprofen|      Normal|            27|         High|\n",
            "|  mr. KenNEth MoORE| 34|Female|        A+|         Diabetes|       2022-06-21|      James Ellis|       Serrano-Dixon|  UnitedHealthcare| 18834.80134117836|        157|     Emergency|    2022-06-30|    Lipitor|    Abnormal|             9|         High|\n",
            "|        MaRy hUNter| 38|Female|        O-|     Hypertension|       2021-01-03|  Jared Bruce Jr.|      Gardner-Miller|             Cigna|32643.299353277187|        223|     Emergency|    2021-01-16| Penicillin|      Normal|            13|         High|\n",
            "|      jOSHUA OLiVer| 63|Female|        B+|     Hypertension|       2023-10-03|  Brandy Mitchell|      Guerrero-Boone|             Aetna| 5767.011053816016|        293|      Elective|    2023-10-12|Paracetamol|    Abnormal|             9|         High|\n",
            "|    ThOMAS MartInEZ| 34|  Male|        B-|           Asthma|       2019-08-18|      Jacob Huynh|            Hart Ltd|             Cigna| 47909.12880987492|        371|        Urgent|    2019-09-01|  Ibuprofen|Inconclusive|            14|         High|\n",
            "|    JAmES pattERson| 23|Female|        A+|        Arthritis|       2019-11-03| Kristina Frazier|       Cruz-Santiago|  UnitedHealthcare|25835.323594688223|        108|        Urgent|    2019-11-29| Penicillin|    Abnormal|            26|         High|\n",
            "|     WilLIAM cOOPEr| 78|  Male|       AB-|        Arthritis|       2023-05-18|     John Hartman|        Group Duncan|          Medicare|17993.226200015546|        245|      Elective|    2023-06-15| Penicillin|      Normal|            28|         High|\n",
            "|        Erin oRTEga| 43|  Male|       AB-|           Cancer|       2023-05-24|   Heather Garcia|      Lopez-Phillips|          Medicare|21185.953530394218|        494|      Elective|    2023-06-03|  Ibuprofen|      Normal|            10|         High|\n",
            "|   NicOlE RodriGUEz| 30|Female|       AB+|         Diabetes|       2020-01-17|       Lynn Young|           Poole Inc|        Blue Cross|  8408.94935429195|        285|     Emergency|    2020-02-10|    Lipitor|      Normal|            24|         High|\n",
            "|     DAvID AndErSON| 25|Female|       AB+|           Asthma|       2021-01-07|     Emma Allison|        Sons and Cox|          Medicare| 45453.41854566515|        228|      Elective|    2021-01-26|    Lipitor|    Abnormal|            19|         High|\n",
            "|      DEnIse ToRRES| 33|  Male|       AB+|         Diabetes|       2019-10-14|      Laura Myers|          LLC Martin|             Aetna|4397.7769954133355|        481|        Urgent|    2019-10-19|Paracetamol|Inconclusive|             5|         High|\n",
            "| CasSAndrA Robinson| 26|Female|        B-|     Hypertension|       2021-12-19|   Travis Parsons|      Espinoza-Stone|             Aetna| 9380.325967528432|        212|        Urgent|    2022-01-16|  Ibuprofen|      Normal|            28|         High|\n",
            "|      NIcOlE LUcErO| 70|Female|        O-|         Diabetes|       2022-03-12|Christine Johnson|and Garcia Morris...|             Cigna| 48290.69340736419|        113|     Emergency|    2022-03-29|    Lipitor|    Abnormal|            17|         High|\n",
            "|   PAmela fErNanDeZ| 57|Female|        B-|          Obesity|       2021-01-17|     Emily Taylor|        Walton-Meyer|          Medicare| 32973.94083296627|        272|        Urgent|    2021-01-29| Penicillin|    Abnormal|            12|         High|\n",
            "|    chRiSTOPHer LEe| 74|Female|        B-|     Hypertension|       2021-09-15| William Reynolds|           PLC Young|             Cigna| 49943.27849878726|        478|     Emergency|    2021-10-05|    Lipitor|      Normal|            20|         High|\n",
            "|       ThomAS morsE| 81|  Male|        A+|     Hypertension|       2020-01-27|  Jennifer Carter|       Meadows Group|             Cigna| 35633.95545438785|        196|        Urgent|    2020-02-09|    Aspirin|      Normal|            13|         High|\n",
            "|      Mr. eRiC Lane| 49|Female|        A-|           Asthma|       2022-06-24|   Matthew Thomas|and Howell Brooks...|             Cigna|25966.328610220968|        418|      Elective|    2022-07-18|Paracetamol|      Normal|            24|         High|\n",
            "|    KAThEriNE SmiTH| 26|Female|       AB+|          Obesity|       2021-06-09|       Mary Logan|and Mcclure White...|  UnitedHealthcare| 21784.44507072369|        410|        Urgent|    2021-07-01|Paracetamol|      Normal|            22|         High|\n",
            "|      pAUL wILLiAmS| 81|Female|       AB-|           Cancer|       2020-08-23| Kristin Martinez|Gates Brown, and ...|          Medicare| 42684.55888455027|        328|        Urgent|    2020-09-08| Penicillin|    Abnormal|            16|         High|\n",
            "|      lYNn MaRtinez| 65|  Male|        O+|           Cancer|       2022-10-12|    Daniel Murphy|     Group Armstrong|          Medicare|  45585.8865599394|        300|     Emergency|    2022-11-02| Penicillin|      Normal|            21|         High|\n",
            "|chRIsTOpHEr CHaPmAN| 31|Female|        O+|     Hypertension|       2021-12-01|  Emily Patterson|        Ltd Schwartz|             Cigna|29615.441863646167|        211|      Elective|    2021-12-09|Paracetamol|      Normal|             8|         High|\n",
            "|         CHRis fRYe| 58|  Male|        A-|         Diabetes|       2020-05-04|    Heather Smith|     Nelson-Phillips|             Cigna| 36992.27368828386|        413|        Urgent|    2020-05-13|    Aspirin|      Normal|             9|         High|\n",
            "|       kyLE bEnneTT| 22|  Male|        O+|     Hypertension|       2023-09-09|       John Smith|Knight and Nguyen...|  UnitedHealthcare|28051.499483946325|        157|        Urgent|    2023-09-23|  Ibuprofen|    Abnormal|            14|         High|\n",
            "|    BRandOn coLLINS| 77|Female|        O+|           Asthma|       2019-07-19|    Cameron Young|           Lopez PLC|             Cigna|16320.232447271888|        138|        Urgent|    2019-07-29|  Ibuprofen|    Abnormal|            10|         High|\n",
            "+-------------------+---+------+----------+-----------------+-----------------+-----------------+--------------------+------------------+------------------+-----------+--------------+--------------+-----------+------------+--------------+-------------+\n",
            "only showing top 50 rows\n",
            "\n"
          ]
        }
      ]
    },
    {
      "cell_type": "code",
      "source": [
        "rdd = df.rdd#RDD Approach\n",
        "avg_length_of_stay = rdd.map(lambda row: row.Lenght_of_stay).mean()\n",
        "print(f\"Average Length of Stay (RDD): {avg_length_of_stay}\")"
      ],
      "metadata": {
        "colab": {
          "base_uri": "https://localhost:8080/"
        },
        "id": "8CoWP-B7oqsS",
        "outputId": "cf2fc1a3-6afb-4c7e-a274-9d846320e748"
      },
      "execution_count": 32,
      "outputs": [
        {
          "output_type": "stream",
          "name": "stdout",
          "text": [
            "Average Length of Stay (RDD): 15.509009009008967\n"
          ]
        }
      ]
    },
    {
      "cell_type": "code",
      "source": [
        "df.agg({\"Lenght_of_stay\": \"avg\"}).show() # Changed \"Length_of_stay\" to \"Lenght_of_stay\"#DataFrame API"
      ],
      "metadata": {
        "colab": {
          "base_uri": "https://localhost:8080/"
        },
        "id": "h01OVtyEruXn",
        "outputId": "7c99f5ee-a8b7-4673-e900-b3fa92f9e143"
      },
      "execution_count": 37,
      "outputs": [
        {
          "output_type": "stream",
          "name": "stdout",
          "text": [
            "+-------------------+\n",
            "|avg(Lenght_of_stay)|\n",
            "+-------------------+\n",
            "|  15.50900900900901|\n",
            "+-------------------+\n",
            "\n"
          ]
        }
      ]
    },
    {
      "cell_type": "code",
      "source": [
        "df.createOrReplaceTempView(\"patients\")#SQL Approach\n",
        "spark.sql(\"SELECT AVG(Lenght_of_stay) FROM patients\").show()"
      ],
      "metadata": {
        "colab": {
          "base_uri": "https://localhost:8080/"
        },
        "id": "ynz0xBuBr8GW",
        "outputId": "7f718a70-9198-4668-902e-ddddaafa997d"
      },
      "execution_count": 38,
      "outputs": [
        {
          "output_type": "stream",
          "name": "stdout",
          "text": [
            "+-------------------+\n",
            "|avg(Lenght_of_stay)|\n",
            "+-------------------+\n",
            "|  15.50900900900901|\n",
            "+-------------------+\n",
            "\n"
          ]
        }
      ]
    },
    {
      "cell_type": "code",
      "source": [],
      "metadata": {
        "id": "SUAajzSks7io"
      },
      "execution_count": null,
      "outputs": []
    }
  ]
}